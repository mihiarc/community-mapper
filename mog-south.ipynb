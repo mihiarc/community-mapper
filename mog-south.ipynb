{
 "cells": [
  {
   "cell_type": "code",
   "execution_count": 1,
   "metadata": {},
   "outputs": [],
   "source": [
    "# pip install pandas geopandas shapely osmnx networkx folium"
   ]
  },
  {
   "cell_type": "code",
   "execution_count": 2,
   "metadata": {},
   "outputs": [],
   "source": [
    "import pandas as pd\n",
    "import geopandas as gpd\n",
    "from shapely.geometry import Point\n",
    "\n",
    "boundaryPath = '/Users/mihiarc/Work/data/spatial-boundaries/'\n",
    "\n",
    "# Load the CSV file\n",
    "df = pd.read_csv('data/FIA_2023_PLOT_US_MOG.csv')\n"
   ]
  },
  {
   "cell_type": "code",
   "execution_count": 3,
   "metadata": {},
   "outputs": [],
   "source": [
    "# Create a geometry column from latitude and longitude\n",
    "geometry = [Point(xy) for xy in zip(df['LON'], df['LAT'])]\n",
    "\n",
    "# Create a GeoDataFrame\n",
    "gdf = gpd.GeoDataFrame(df, geometry=geometry, crs='EPSG:4326')  # WGS84 coordinate system"
   ]
  },
  {
   "cell_type": "code",
   "execution_count": 4,
   "metadata": {},
   "outputs": [],
   "source": [
    "# Load US states shapefile\n",
    "states = gpd.read_file(boundaryPath + 'tl_2023_us_state/tl_2023_us_state.shp')\n",
    "\n",
    "# List of the 13 southern US states\n",
    "southern_states = [\n",
    "    'Alabama', 'Arkansas', 'Florida', 'Georgia', 'Kentucky', 'Louisiana',\n",
    "    'Mississippi', 'North Carolina', 'South Carolina', 'Tennessee', 'Texas',\n",
    "    'Virginia', 'West Virginia'\n",
    "]\n",
    "\n",
    "# Filter the states GeoDataFrame\n",
    "southern_states_gdf = states[states['NAME'].isin(southern_states)]"
   ]
  },
  {
   "cell_type": "code",
   "execution_count": 5,
   "metadata": {},
   "outputs": [],
   "source": [
    "# Ensure both GeoDataFrames use the same coordinate reference system (CRS)\n",
    "gdf = gdf.to_crs(southern_states_gdf.crs)\n",
    "\n",
    "# Spatial join to select points within southern states\n",
    "forests_in_south = gpd.sjoin(gdf, southern_states_gdf, how='inner', predicate='within')"
   ]
  },
  {
   "cell_type": "code",
   "execution_count": 6,
   "metadata": {},
   "outputs": [
    {
     "name": "stderr",
     "output_type": "stream",
     "text": [
      "/var/folders/c9/dwfk30c575n0dw3tkq6prd940000gn/T/ipykernel_73922/3330247313.py:6: UserWarning: Geometry is in a geographic CRS. Results from 'centroid' are likely incorrect. Use 'GeoSeries.to_crs()' to re-project geometries to a projected CRS before this operation.\n",
      "\n",
      "  msa_centroids['geometry'] = msa.geometry.centroid\n"
     ]
    }
   ],
   "source": [
    "# Load MSA shapefile\n",
    "msa = gpd.read_file(boundaryPath + 'tl_2020_us_metdiv/tl_2020_us_metdiv.shp')\n",
    "\n",
    "# Create a GeoDataFrame of MSA centroids\n",
    "msa_centroids = msa.copy()\n",
    "msa_centroids['geometry'] = msa.geometry.centroid"
   ]
  },
  {
   "cell_type": "code",
   "execution_count": 7,
   "metadata": {},
   "outputs": [
    {
     "name": "stdout",
     "output_type": "stream",
     "text": [
      "Number of forest points: 47321\n",
      "Number of MSA centroids: 31\n",
      "Forest geometry types:\n",
      "['Point']\n",
      "MSA centroid geometry types:\n",
      "['Point']\n",
      "Any missing forest coordinates: False\n",
      "Any missing MSA coordinates: False\n"
     ]
    }
   ],
   "source": [
    "print(f\"Number of forest points: {len(forests_in_south)}\")\n",
    "print(f\"Number of MSA centroids: {len(msa_centroids)}\")\n",
    "\n",
    "print(f\"Forest geometry types:\\n{forests_in_south.geometry.geom_type.unique()}\")\n",
    "print(f\"MSA centroid geometry types:\\n{msa_centroids.geometry.geom_type.unique()}\")\n",
    "\n",
    "print(f\"Any missing forest coordinates: {forests_in_south.geometry.hasnans}\")\n",
    "print(f\"Any missing MSA coordinates: {msa_centroids.geometry.hasnans}\")"
   ]
  },
  {
   "cell_type": "code",
   "execution_count": 8,
   "metadata": {},
   "outputs": [],
   "source": [
    "# Ensure both GeoDataFrames are in the same projected CRS\n",
    "forests_in_south = forests_in_south.to_crs('EPSG:3857')\n",
    "msa_centroids = msa_centroids.to_crs('EPSG:3857')\n",
    "\n",
    "# Ensure both GeoDataFrames are in the same projected CRS\n",
    "forests_in_south = forests_in_south.to_crs('EPSG:3857')\n",
    "msa_centroids = msa_centroids.to_crs('EPSG:3857')\n",
    "\n",
    "# Drop 'index_left' and 'index_right' if they exist\n",
    "if 'index_left' in forests_in_south.columns:\n",
    "    forests_in_south = forests_in_south.drop(columns=['index_left'])\n",
    "if 'index_right' in forests_in_south.columns:\n",
    "    forests_in_south = forests_in_south.drop(columns=['index_right'])\n",
    "if 'index_left' in msa_centroids.columns:\n",
    "    msa_centroids = msa_centroids.drop(columns=['index_left'])\n",
    "if 'index_right' in msa_centroids.columns:\n",
    "    msa_centroids = msa_centroids.drop(columns=['index_right'])\n",
    "\n",
    "# Perform the spatial join\n",
    "nearest_msa = forests_in_south.sjoin_nearest(\n",
    "    msa_centroids,\n",
    "    how='left',\n",
    "    distance_col='distance'\n",
    ")"
   ]
  },
  {
   "cell_type": "code",
   "execution_count": 9,
   "metadata": {},
   "outputs": [
    {
     "data": {
      "text/plain": [
       "Index(['INVYR', 'STATECD', 'UNITCD', 'COUNTYCD', 'PLOT', 'PLOT_STATUS_CD',\n",
       "       'MEASYEAR', 'MEASMON', 'MEASDAY', 'REMPER',\n",
       "       ...\n",
       "       'GEOID_right', 'NAME_right', 'NAMELSAD', 'LSAD_right', 'MTFCC_right',\n",
       "       'ALAND_right', 'AWATER_right', 'INTPTLAT_right', 'INTPTLON_right',\n",
       "       'distance'],\n",
       "      dtype='object', length=103)"
      ]
     },
     "execution_count": 9,
     "metadata": {},
     "output_type": "execute_result"
    }
   ],
   "source": [
    "nearest_msa.columns"
   ]
  },
  {
   "cell_type": "code",
   "execution_count": 10,
   "metadata": {},
   "outputs": [],
   "source": [
    "\n",
    "\n",
    "# nearest_msa = nearest_msa.set_geometry('geometry_left')\n",
    "\n",
    "nearest_msa['straight_line_distance_km'] = nearest_msa['distance'] / 1000"
   ]
  },
  {
   "cell_type": "code",
   "execution_count": 11,
   "metadata": {},
   "outputs": [
    {
     "name": "stderr",
     "output_type": "stream",
     "text": [
      "/var/folders/c9/dwfk30c575n0dw3tkq6prd940000gn/T/ipykernel_73922/2734199762.py:7: FutureWarning: The `north`, `south`, `east`, and `west` parameters are deprecated and will be removed in the v2.0.0 release. Use the `bbox` parameter instead. See the OSMnx v2 migration guide: https://github.com/gboeing/osmnx/issues/1123\n",
      "  G = ox.graph_from_bbox(maxy, miny, maxx, minx, network_type='drive')\n",
      "/var/folders/c9/dwfk30c575n0dw3tkq6prd940000gn/T/ipykernel_73922/2734199762.py:7: FutureWarning: The expected order of coordinates in `bbox` will change in the v2.0.0 release to `(left, bottom, right, top)`.\n",
      "  G = ox.graph_from_bbox(maxy, miny, maxx, minx, network_type='drive')\n",
      "/opt/anaconda3/envs/geo/lib/python3.9/site-packages/osmnx/_overpass.py:254: UserWarning: This area is 2,156 times your configured Overpass max query area size. It will automatically be divided up into multiple sub-queries accordingly. This may take a long time.\n",
      "  multi_poly_proj = utils_geo._consolidate_subdivide_geometry(poly_proj)\n"
     ]
    },
    {
     "ename": "KeyboardInterrupt",
     "evalue": "",
     "output_type": "error",
     "traceback": [
      "\u001b[0;31m---------------------------------------------------------------------------\u001b[0m",
      "\u001b[0;31mKeyboardInterrupt\u001b[0m                         Traceback (most recent call last)",
      "Cell \u001b[0;32mIn[11], line 7\u001b[0m\n\u001b[1;32m      4\u001b[0m minx, miny, maxx, maxy \u001b[38;5;241m=\u001b[39m southern_states_gdf\u001b[38;5;241m.\u001b[39mtotal_bounds\n\u001b[1;32m      6\u001b[0m \u001b[38;5;66;03m# Download the road network\u001b[39;00m\n\u001b[0;32m----> 7\u001b[0m G \u001b[38;5;241m=\u001b[39m \u001b[43mox\u001b[49m\u001b[38;5;241;43m.\u001b[39;49m\u001b[43mgraph_from_bbox\u001b[49m\u001b[43m(\u001b[49m\u001b[43mmaxy\u001b[49m\u001b[43m,\u001b[49m\u001b[43m \u001b[49m\u001b[43mminy\u001b[49m\u001b[43m,\u001b[49m\u001b[43m \u001b[49m\u001b[43mmaxx\u001b[49m\u001b[43m,\u001b[49m\u001b[43m \u001b[49m\u001b[43mminx\u001b[49m\u001b[43m,\u001b[49m\u001b[43m \u001b[49m\u001b[43mnetwork_type\u001b[49m\u001b[38;5;241;43m=\u001b[39;49m\u001b[38;5;124;43m'\u001b[39;49m\u001b[38;5;124;43mdrive\u001b[39;49m\u001b[38;5;124;43m'\u001b[39;49m\u001b[43m)\u001b[49m\n",
      "File \u001b[0;32m/opt/anaconda3/envs/geo/lib/python3.9/site-packages/osmnx/graph.py:112\u001b[0m, in \u001b[0;36mgraph_from_bbox\u001b[0;34m(north, south, east, west, bbox, network_type, simplify, retain_all, truncate_by_edge, clean_periphery, custom_filter)\u001b[0m\n\u001b[1;32m    109\u001b[0m polygon \u001b[38;5;241m=\u001b[39m utils_geo\u001b[38;5;241m.\u001b[39mbbox_to_poly(bbox\u001b[38;5;241m=\u001b[39mbbox)\n\u001b[1;32m    111\u001b[0m \u001b[38;5;66;03m# create graph using this polygon geometry\u001b[39;00m\n\u001b[0;32m--> 112\u001b[0m G \u001b[38;5;241m=\u001b[39m \u001b[43mgraph_from_polygon\u001b[49m\u001b[43m(\u001b[49m\n\u001b[1;32m    113\u001b[0m \u001b[43m    \u001b[49m\u001b[43mpolygon\u001b[49m\u001b[43m,\u001b[49m\n\u001b[1;32m    114\u001b[0m \u001b[43m    \u001b[49m\u001b[43mnetwork_type\u001b[49m\u001b[38;5;241;43m=\u001b[39;49m\u001b[43mnetwork_type\u001b[49m\u001b[43m,\u001b[49m\n\u001b[1;32m    115\u001b[0m \u001b[43m    \u001b[49m\u001b[43msimplify\u001b[49m\u001b[38;5;241;43m=\u001b[39;49m\u001b[43msimplify\u001b[49m\u001b[43m,\u001b[49m\n\u001b[1;32m    116\u001b[0m \u001b[43m    \u001b[49m\u001b[43mretain_all\u001b[49m\u001b[38;5;241;43m=\u001b[39;49m\u001b[43mretain_all\u001b[49m\u001b[43m,\u001b[49m\n\u001b[1;32m    117\u001b[0m \u001b[43m    \u001b[49m\u001b[43mtruncate_by_edge\u001b[49m\u001b[38;5;241;43m=\u001b[39;49m\u001b[43mtruncate_by_edge\u001b[49m\u001b[43m,\u001b[49m\n\u001b[1;32m    118\u001b[0m \u001b[43m    \u001b[49m\u001b[43mclean_periphery\u001b[49m\u001b[38;5;241;43m=\u001b[39;49m\u001b[43mclean_periphery\u001b[49m\u001b[43m,\u001b[49m\n\u001b[1;32m    119\u001b[0m \u001b[43m    \u001b[49m\u001b[43mcustom_filter\u001b[49m\u001b[38;5;241;43m=\u001b[39;49m\u001b[43mcustom_filter\u001b[49m\u001b[43m,\u001b[49m\n\u001b[1;32m    120\u001b[0m \u001b[43m\u001b[49m\u001b[43m)\u001b[49m\n\u001b[1;32m    122\u001b[0m utils\u001b[38;5;241m.\u001b[39mlog(\u001b[38;5;124mf\u001b[39m\u001b[38;5;124m\"\u001b[39m\u001b[38;5;124mgraph_from_bbox returned graph with \u001b[39m\u001b[38;5;132;01m{\u001b[39;00m\u001b[38;5;28mlen\u001b[39m(G)\u001b[38;5;132;01m:\u001b[39;00m\u001b[38;5;124m,\u001b[39m\u001b[38;5;132;01m}\u001b[39;00m\u001b[38;5;124m nodes and \u001b[39m\u001b[38;5;132;01m{\u001b[39;00m\u001b[38;5;28mlen\u001b[39m(G\u001b[38;5;241m.\u001b[39medges)\u001b[38;5;132;01m:\u001b[39;00m\u001b[38;5;124m,\u001b[39m\u001b[38;5;132;01m}\u001b[39;00m\u001b[38;5;124m edges\u001b[39m\u001b[38;5;124m\"\u001b[39m)\n\u001b[1;32m    123\u001b[0m \u001b[38;5;28;01mreturn\u001b[39;00m G\n",
      "File \u001b[0;32m/opt/anaconda3/envs/geo/lib/python3.9/site-packages/osmnx/graph.py:504\u001b[0m, in \u001b[0;36mgraph_from_polygon\u001b[0;34m(polygon, network_type, simplify, retain_all, truncate_by_edge, clean_periphery, custom_filter)\u001b[0m\n\u001b[1;32m    502\u001b[0m \u001b[38;5;66;03m# create buffered graph from the downloaded data\u001b[39;00m\n\u001b[1;32m    503\u001b[0m bidirectional \u001b[38;5;241m=\u001b[39m network_type \u001b[38;5;129;01min\u001b[39;00m settings\u001b[38;5;241m.\u001b[39mbidirectional_network_types\n\u001b[0;32m--> 504\u001b[0m G_buff \u001b[38;5;241m=\u001b[39m \u001b[43m_create_graph\u001b[49m\u001b[43m(\u001b[49m\u001b[43mresponse_jsons\u001b[49m\u001b[43m,\u001b[49m\u001b[43m \u001b[49m\u001b[43mretain_all\u001b[49m\u001b[38;5;241;43m=\u001b[39;49m\u001b[38;5;28;43;01mTrue\u001b[39;49;00m\u001b[43m,\u001b[49m\u001b[43m \u001b[49m\u001b[43mbidirectional\u001b[49m\u001b[38;5;241;43m=\u001b[39;49m\u001b[43mbidirectional\u001b[49m\u001b[43m)\u001b[49m\n\u001b[1;32m    506\u001b[0m \u001b[38;5;66;03m# truncate buffered graph to the buffered polygon and retain_all for\u001b[39;00m\n\u001b[1;32m    507\u001b[0m \u001b[38;5;66;03m# now. needed because overpass returns entire ways that also include\u001b[39;00m\n\u001b[1;32m    508\u001b[0m \u001b[38;5;66;03m# nodes outside the poly if the way (that is, a way with a single OSM\u001b[39;00m\n\u001b[1;32m    509\u001b[0m \u001b[38;5;66;03m# ID) has a node inside the poly at some point.\u001b[39;00m\n\u001b[1;32m    510\u001b[0m G_buff \u001b[38;5;241m=\u001b[39m truncate\u001b[38;5;241m.\u001b[39mtruncate_graph_polygon(G_buff, poly_buff, \u001b[38;5;28;01mTrue\u001b[39;00m, truncate_by_edge)\n",
      "File \u001b[0;32m/opt/anaconda3/envs/geo/lib/python3.9/site-packages/osmnx/graph.py:632\u001b[0m, in \u001b[0;36m_create_graph\u001b[0;34m(response_jsons, retain_all, bidirectional)\u001b[0m\n\u001b[1;32m    629\u001b[0m paths \u001b[38;5;241m=\u001b[39m {}\n\u001b[1;32m    631\u001b[0m \u001b[38;5;66;03m# consume response_jsons generator to download data from server\u001b[39;00m\n\u001b[0;32m--> 632\u001b[0m \u001b[38;5;28;01mfor\u001b[39;00m response_json \u001b[38;5;129;01min\u001b[39;00m response_jsons:\n\u001b[1;32m    633\u001b[0m     response_count \u001b[38;5;241m+\u001b[39m\u001b[38;5;241m=\u001b[39m \u001b[38;5;241m1\u001b[39m\n\u001b[1;32m    635\u001b[0m     \u001b[38;5;66;03m# if cache_only_mode, consume response_jsons then continue next loop\u001b[39;00m\n",
      "File \u001b[0;32m/opt/anaconda3/envs/geo/lib/python3.9/site-packages/osmnx/_overpass.py:369\u001b[0m, in \u001b[0;36m_download_overpass_network\u001b[0;34m(polygon, network_type, custom_filter)\u001b[0m\n\u001b[1;32m    367\u001b[0m \u001b[38;5;28;01mfor\u001b[39;00m polygon_coord_str \u001b[38;5;129;01min\u001b[39;00m polygon_coord_strs:\n\u001b[1;32m    368\u001b[0m     query_str \u001b[38;5;241m=\u001b[39m \u001b[38;5;124mf\u001b[39m\u001b[38;5;124m\"\u001b[39m\u001b[38;5;132;01m{\u001b[39;00moverpass_settings\u001b[38;5;132;01m}\u001b[39;00m\u001b[38;5;124m;(way\u001b[39m\u001b[38;5;132;01m{\u001b[39;00mosm_filter\u001b[38;5;132;01m}\u001b[39;00m\u001b[38;5;124m(poly:\u001b[39m\u001b[38;5;132;01m{\u001b[39;00mpolygon_coord_str\u001b[38;5;132;01m!r}\u001b[39;00m\u001b[38;5;124m);>;);out;\u001b[39m\u001b[38;5;124m\"\u001b[39m\n\u001b[0;32m--> 369\u001b[0m     \u001b[38;5;28;01myield\u001b[39;00m \u001b[43m_overpass_request\u001b[49m\u001b[43m(\u001b[49m\u001b[43mdata\u001b[49m\u001b[38;5;241;43m=\u001b[39;49m\u001b[43m{\u001b[49m\u001b[38;5;124;43m\"\u001b[39;49m\u001b[38;5;124;43mdata\u001b[39;49m\u001b[38;5;124;43m\"\u001b[39;49m\u001b[43m:\u001b[49m\u001b[43m \u001b[49m\u001b[43mquery_str\u001b[49m\u001b[43m}\u001b[49m\u001b[43m)\u001b[49m\n",
      "File \u001b[0;32m/opt/anaconda3/envs/geo/lib/python3.9/site-packages/osmnx/_overpass.py:454\u001b[0m, in \u001b[0;36m_overpass_request\u001b[0;34m(data, pause, error_pause)\u001b[0m\n\u001b[1;32m    452\u001b[0m domain \u001b[38;5;241m=\u001b[39m _downloader\u001b[38;5;241m.\u001b[39m_hostname_from_url(url)\n\u001b[1;32m    453\u001b[0m utils\u001b[38;5;241m.\u001b[39mlog(\u001b[38;5;124mf\u001b[39m\u001b[38;5;124m\"\u001b[39m\u001b[38;5;124mPausing \u001b[39m\u001b[38;5;132;01m{\u001b[39;00mthis_pause\u001b[38;5;132;01m}\u001b[39;00m\u001b[38;5;124m second(s) before making HTTP POST request to \u001b[39m\u001b[38;5;132;01m{\u001b[39;00mdomain\u001b[38;5;132;01m!r}\u001b[39;00m\u001b[38;5;124m\"\u001b[39m)\n\u001b[0;32m--> 454\u001b[0m \u001b[43mtime\u001b[49m\u001b[38;5;241;43m.\u001b[39;49m\u001b[43msleep\u001b[49m\u001b[43m(\u001b[49m\u001b[43mthis_pause\u001b[49m\u001b[43m)\u001b[49m\n\u001b[1;32m    456\u001b[0m \u001b[38;5;66;03m# transmit the HTTP POST request\u001b[39;00m\n\u001b[1;32m    457\u001b[0m utils\u001b[38;5;241m.\u001b[39mlog(\u001b[38;5;124mf\u001b[39m\u001b[38;5;124m\"\u001b[39m\u001b[38;5;124mPost \u001b[39m\u001b[38;5;132;01m{\u001b[39;00mprepared_url\u001b[38;5;132;01m}\u001b[39;00m\u001b[38;5;124m with timeout=\u001b[39m\u001b[38;5;132;01m{\u001b[39;00mtimeout\u001b[38;5;132;01m}\u001b[39;00m\u001b[38;5;124m\"\u001b[39m)\n",
      "\u001b[0;31mKeyboardInterrupt\u001b[0m: "
     ]
    }
   ],
   "source": [
    "import osmnx as ox\n",
    "\n",
    "# Define the bounding box covering the southern states\n",
    "minx, miny, maxx, maxy = southern_states_gdf.total_bounds\n",
    "\n",
    "# Download the road network\n",
    "G = ox.graph_from_bbox(maxy, miny, maxx, minx, network_type='drive')"
   ]
  },
  {
   "cell_type": "code",
   "execution_count": null,
   "metadata": {},
   "outputs": [],
   "source": [
    "# Function to get the nearest network node\n",
    "def get_nearest_node(row):\n",
    "    point = row['forest_geometry']\n",
    "    return ox.distance.nearest_nodes(G, point.x, point.y)\n",
    "\n",
    "def get_nearest_msa_node(row):\n",
    "    point = row['msa_centroid_geometry']\n",
    "    return ox.distance.nearest_nodes(G, point.x, point.y)\n",
    "\n",
    "# Apply to the DataFrame\n",
    "nearest_msa['forest_node'] = nearest_msa.apply(get_nearest_node, axis=1)\n",
    "nearest_msa['msa_node'] = nearest_msa.apply(get_nearest_msa_node, axis=1)"
   ]
  },
  {
   "cell_type": "code",
   "execution_count": null,
   "metadata": {},
   "outputs": [],
   "source": [
    "import networkx as nx\n",
    "\n",
    "def calculate_route_length(row):\n",
    "    try:\n",
    "        length = nx.shortest_path_length(\n",
    "            G, row['forest_node'], row['msa_node'], weight='length'\n",
    "        )\n",
    "        return length  # length in meters\n",
    "    except nx.NetworkXNoPath:\n",
    "        return None\n",
    "\n",
    "nearest_msa['road_distance_m'] = nearest_msa.apply(calculate_route_length, axis=1)\n",
    "nearest_msa['road_distance_km'] = nearest_msa['road_distance_m'] / 1000"
   ]
  },
  {
   "cell_type": "code",
   "execution_count": null,
   "metadata": {},
   "outputs": [],
   "source": [
    "nearest_msa['travel_time_min'] = (nearest_msa['road_distance_km'] / 60) * 60  # in minutes"
   ]
  },
  {
   "cell_type": "code",
   "execution_count": null,
   "metadata": {},
   "outputs": [],
   "source": [
    "output_table = nearest_msa[[\n",
    "    'forest_id', 'msa_id', 'straight_line_distance_km',\n",
    "    'road_distance_km', 'travel_time_min'\n",
    "]]\n",
    "\n",
    "# Save to CSV\n",
    "output_table.to_csv('forest_msa_distances.csv', index=False)"
   ]
  },
  {
   "cell_type": "code",
   "execution_count": null,
   "metadata": {},
   "outputs": [],
   "source": [
    "import folium\n",
    "\n",
    "# Initialize the map\n",
    "m = folium.Map(location=[\n",
    "    forests_in_south.geometry.y.mean(),\n",
    "    forests_in_south.geometry.x.mean()\n",
    "], zoom_start=6)\n",
    "\n",
    "# Add forest points\n",
    "for _, row in nearest_msa.iterrows():\n",
    "    folium.CircleMarker(\n",
    "        location=[row['forest_geometry'].y, row['forest_geometry'].x],\n",
    "        radius=3,\n",
    "        color='green',\n",
    "        fill=True\n",
    "    ).add_to(m)\n",
    "\n",
    "# Add MSA centroids\n",
    "for _, row in nearest_msa.iterrows():\n",
    "    folium.Marker(\n",
    "        location=[row['msa_centroid_geometry'].y, row['msa_centroid_geometry'].x],\n",
    "        popup=row['msa_name']  # Replace with the appropriate column name\n",
    "    ).add_to(m)\n",
    "\n",
    "# Draw lines between forests and their nearest MSAs\n",
    "for _, row in nearest_msa.iterrows():\n",
    "    folium.PolyLine(\n",
    "        locations=[\n",
    "            (row['forest_geometry'].y, row['forest_geometry'].x),\n",
    "            (row['msa_centroid_geometry'].y, row['msa_centroid_geometry'].x)\n",
    "        ],\n",
    "        color='blue'\n",
    "    ).add_to(m)\n",
    "\n",
    "# Save the map\n",
    "m.save('forest_msa_map.html')"
   ]
  }
 ],
 "metadata": {
  "kernelspec": {
   "display_name": "geo",
   "language": "python",
   "name": "python3"
  },
  "language_info": {
   "codemirror_mode": {
    "name": "ipython",
    "version": 3
   },
   "file_extension": ".py",
   "mimetype": "text/x-python",
   "name": "python",
   "nbconvert_exporter": "python",
   "pygments_lexer": "ipython3",
   "version": "3.9.19"
  }
 },
 "nbformat": 4,
 "nbformat_minor": 2
}
